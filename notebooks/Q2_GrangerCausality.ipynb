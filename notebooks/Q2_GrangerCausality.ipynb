{
 "cells": [
  {
   "cell_type": "code",
   "execution_count": null,
   "id": "9a3d17fa-e253-4213-bb62-f1a48ad8024f",
   "metadata": {},
   "outputs": [],
   "source": [
    "import pandas as pd\n",
    "import numpy as np\n",
    "import matplotlib.pyplot as plt\n",
    "from statsmodels.tsa.stattools import grangercausalitytests\n",
    "from statsmodels.tsa.stattools import adfuller"
   ]
  },
  {
   "cell_type": "code",
   "execution_count": null,
   "id": "0aa39d1a-9c4a-4bcd-a41e-1eac53d3e601",
   "metadata": {},
   "outputs": [],
   "source": [
    "FEDFUNDS = pd.read_csv('FEDFUNDS_quarterly.csv')\n",
    "DRCCLACBS = pd.read_csv('DRCCLACBS.csv')\n",
    "CORCCACBS = pd.read_csv('CORCCACBS.csv')\n",
    "\n",
    "obs_date = pd.to_datetime(FEDFUNDS['observation_date'])\n",
    "obs_date = obs_date.dt.to_period('Q').dt.start_time\n",
    "FEDFUNDS['observation_date'] = obs_date"
   ]
  },
  {
   "cell_type": "code",
   "execution_count": null,
   "id": "f0dbc6d3-108b-4d19-b6c5-f709cfa18a57",
   "metadata": {},
   "outputs": [],
   "source": [
    "df_raw = pd.DataFrame()\n",
    "df_raw['FEDFUNDS'] = FEDFUNDS['FEDFUNDS']\n",
    "df_raw['Delinq'] = DRCCLACBS['DRCCLACBS']\n",
    "df_raw['ChargeOff'] = CORCCACBS['CORCCACBS']\n",
    "df_raw.set_index(obs_date, inplace = True)"
   ]
  },
  {
   "cell_type": "code",
   "execution_count": null,
   "id": "26d855ee-7893-4d9f-a689-0b35b7d6c2fa",
   "metadata": {},
   "outputs": [
    {
     "name": "stdout",
     "output_type": "stream",
     "text": [
      "FEDFUNDS\n",
      "Delinq\n"
     ]
    }
   ],
   "source": [
    "# Stationarity check\n",
    "for col in df_raw.columns:\n",
    "    if adfuller(df_raw[col])[1]>0.05:\n",
    "        print(col)"
   ]
  },
  {
   "cell_type": "code",
   "execution_count": null,
   "id": "e9f98e05-d740-4727-b0a6-42d85726d2d9",
   "metadata": {},
   "outputs": [],
   "source": [
    "# Data Transformation for unstationary data\n",
    "FEDFUNDS_diff = FEDFUNDS['FEDFUNDS'].diff().dropna()\n",
    "Delinq_diff = DRCCLACBS['DRCCLACBS'].diff().dropna()\n",
    "\n",
    "ChargeOff = CORCCACBS['CORCCACBS']\n",
    "ChargeOff = ChargeOff.iloc[1:]\n",
    "obs_date = obs_date.iloc[1:]\n",
    "\n",
    "df_transformed = pd.DataFrame()\n",
    "df_transformed['FEDFUNDS_diff'] = FEDFUNDS_diff\n",
    "df_transformed['Delinq_diff'] = Delinq_diff\n",
    "df_transformed['ChargeOff'] = ChargeOff\n",
    "df_transformed.set_index(obs_date, inplace = True)\n",
    "\n",
    "for col in df_transformed.columns:\n",
    "    if adfuller(df_transformed[col])[1]>0.05:\n",
    "        print(col)"
   ]
  },
  {
   "cell_type": "code",
   "execution_count": null,
   "id": "92f9372a-e146-4ac5-85fc-ff1bdd02bda1",
   "metadata": {},
   "outputs": [
    {
     "name": "stdout",
     "output_type": "stream",
     "text": [
      "                  FEDFUNDS_diff  Delinq_diff  ChargeOff\n",
      "observation_date                                       \n",
      "1994-04-01             0.726667        -0.31       3.02\n",
      "1994-07-01             0.546667        -0.04       2.97\n",
      "1994-10-01             0.680000         0.04       3.08\n",
      "1995-01-01             0.643333         0.19       2.93\n",
      "1995-04-01             0.210000         0.22       3.27\n",
      "...                         ...          ...        ...\n",
      "2023-10-01             0.070000         0.16       4.19\n",
      "2024-01-01             0.000000         0.07       4.39\n",
      "2024-04-01             0.000000         0.06       4.55\n",
      "2024-07-01            -0.066667        -0.03       4.70\n",
      "2024-10-01            -0.613333        -0.12       4.59\n",
      "\n",
      "[123 rows x 3 columns]\n"
     ]
    }
   ],
   "source": [
    "print(df_transformed)"
   ]
  },
  {
   "cell_type": "code",
   "execution_count": null,
   "id": "574da089-3b45-4650-b33e-ccd82c3b2c89",
   "metadata": {},
   "outputs": [
    {
     "name": "stdout",
     "output_type": "stream",
     "text": [
      "\n",
      "Granger Causality\n",
      "number of lags (no zero) 1\n",
      "ssr based F test:         F=0.0055  , p=0.9411  , df_denom=119, df_num=1\n",
      "ssr based chi2 test:   chi2=0.0056  , p=0.9402  , df=1\n",
      "likelihood ratio test: chi2=0.0056  , p=0.9402  , df=1\n",
      "parameter F test:         F=0.0055  , p=0.9411  , df_denom=119, df_num=1\n",
      "\n",
      "Granger Causality\n",
      "number of lags (no zero) 2\n",
      "ssr based F test:         F=0.8159  , p=0.4448  , df_denom=116, df_num=2\n",
      "ssr based chi2 test:   chi2=1.7021  , p=0.4270  , df=2\n",
      "likelihood ratio test: chi2=1.6902  , p=0.4295  , df=2\n",
      "parameter F test:         F=0.8159  , p=0.4448  , df_denom=116, df_num=2\n",
      "\n",
      "Granger Causality\n",
      "number of lags (no zero) 3\n",
      "ssr based F test:         F=0.4849  , p=0.6934  , df_denom=113, df_num=3\n",
      "ssr based chi2 test:   chi2=1.5448  , p=0.6720  , df=3\n",
      "likelihood ratio test: chi2=1.5350  , p=0.6742  , df=3\n",
      "parameter F test:         F=0.4849  , p=0.6934  , df_denom=113, df_num=3\n",
      "\n",
      "Granger Causality\n",
      "number of lags (no zero) 4\n",
      "ssr based F test:         F=0.2174  , p=0.9283  , df_denom=110, df_num=4\n",
      "ssr based chi2 test:   chi2=0.9408  , p=0.9186  , df=4\n",
      "likelihood ratio test: chi2=0.9371  , p=0.9192  , df=4\n",
      "parameter F test:         F=0.2174  , p=0.9283  , df_denom=110, df_num=4\n"
     ]
    },
    {
     "data": {
      "text/plain": [
       "{1: ({'ssr_ftest': (0.005481559028955236, 0.9411048154835302, 119.0, 1),\n",
       "   'ssr_chi2test': (0.0056197495927104105, 0.9402425681211721, 1),\n",
       "   'lrtest': (0.005619620163884065, 0.9402432549757515, 1),\n",
       "   'params_ftest': (0.005481559028949973, 0.9411048154835302, 119.0, 1.0)},\n",
       "  [<statsmodels.regression.linear_model.RegressionResultsWrapper at 0x127c8a390>,\n",
       "   <statsmodels.regression.linear_model.RegressionResultsWrapper at 0x168479610>,\n",
       "   array([[0., 1., 0.]])]),\n",
       " 2: ({'ssr_ftest': (0.8158763441131065, 0.4447730182061146, 116.0, 2),\n",
       "   'ssr_chi2test': (1.7020868558221702, 0.4269691878704649, 2),\n",
       "   'lrtest': (1.6902264656141028, 0.4295087209789964, 2),\n",
       "   'params_ftest': (0.8158763441130911, 0.44477301820612036, 116.0, 2.0)},\n",
       "  [<statsmodels.regression.linear_model.RegressionResultsWrapper at 0x16a388250>,\n",
       "   <statsmodels.regression.linear_model.RegressionResultsWrapper at 0x16a38bb90>,\n",
       "   array([[0., 0., 1., 0., 0.],\n",
       "          [0., 0., 0., 1., 0.]])]),\n",
       " 3: ({'ssr_ftest': (0.4849003229299799, 0.6934427842154279, 113.0, 3),\n",
       "   'ssr_chi2test': (1.5448151880955112, 0.6719662940251869, 3),\n",
       "   'lrtest': (1.5349561530143205, 0.6742262838042822, 3),\n",
       "   'params_ftest': (0.48490032292997426, 0.6934427842154309, 113.0, 3.0)},\n",
       "  [<statsmodels.regression.linear_model.RegressionResultsWrapper at 0x16a389990>,\n",
       "   <statsmodels.regression.linear_model.RegressionResultsWrapper at 0x16a389810>,\n",
       "   array([[0., 0., 0., 1., 0., 0., 0.],\n",
       "          [0., 0., 0., 0., 1., 0., 0.],\n",
       "          [0., 0., 0., 0., 0., 1., 0.]])]),\n",
       " 4: ({'ssr_ftest': (0.21740412071471532, 0.9282565783398876, 110.0, 4),\n",
       "   'ssr_chi2test': (0.9407669223654954, 0.9186406678993189, 4),\n",
       "   'lrtest': (0.9370677402002912, 0.9191836550757679, 4),\n",
       "   'params_ftest': (0.21740412071470677, 0.9282565783398911, 110.0, 4.0)},\n",
       "  [<statsmodels.regression.linear_model.RegressionResultsWrapper at 0x16a3c7c10>,\n",
       "   <statsmodels.regression.linear_model.RegressionResultsWrapper at 0x16a3c6fd0>,\n",
       "   array([[0., 0., 0., 0., 1., 0., 0., 0., 0.],\n",
       "          [0., 0., 0., 0., 0., 1., 0., 0., 0.],\n",
       "          [0., 0., 0., 0., 0., 0., 1., 0., 0.],\n",
       "          [0., 0., 0., 0., 0., 0., 0., 1., 0.]])])}"
      ]
     },
     "execution_count": 19,
     "metadata": {},
     "output_type": "execute_result"
    }
   ],
   "source": [
    "grangercausalitytests(df_transformed[['FEDFUNDS_diff', 'Delinq_diff']], maxlag = 4)"
   ]
  },
  {
   "cell_type": "code",
   "execution_count": null,
   "id": "e22f1a15-96e8-4ccb-9eb0-bd2a71eec86a",
   "metadata": {},
   "outputs": [
    {
     "name": "stdout",
     "output_type": "stream",
     "text": [
      "\n",
      "Granger Causality\n",
      "number of lags (no zero) 1\n",
      "ssr based F test:         F=0.1988  , p=0.6565  , df_denom=119, df_num=1\n",
      "ssr based chi2 test:   chi2=0.2038  , p=0.6517  , df=1\n",
      "likelihood ratio test: chi2=0.2036  , p=0.6518  , df=1\n",
      "parameter F test:         F=0.1988  , p=0.6565  , df_denom=119, df_num=1\n",
      "\n",
      "Granger Causality\n",
      "number of lags (no zero) 2\n",
      "ssr based F test:         F=0.0818  , p=0.9215  , df_denom=116, df_num=2\n",
      "ssr based chi2 test:   chi2=0.1706  , p=0.9182  , df=2\n",
      "likelihood ratio test: chi2=0.1705  , p=0.9183  , df=2\n",
      "parameter F test:         F=0.0818  , p=0.9215  , df_denom=116, df_num=2\n",
      "\n",
      "Granger Causality\n",
      "number of lags (no zero) 3\n",
      "ssr based F test:         F=0.1213  , p=0.9474  , df_denom=113, df_num=3\n",
      "ssr based chi2 test:   chi2=0.3865  , p=0.9430  , df=3\n",
      "likelihood ratio test: chi2=0.3858  , p=0.9432  , df=3\n",
      "parameter F test:         F=0.1213  , p=0.9474  , df_denom=113, df_num=3\n",
      "\n",
      "Granger Causality\n",
      "number of lags (no zero) 4\n",
      "ssr based F test:         F=0.2438  , p=0.9128  , df_denom=110, df_num=4\n",
      "ssr based chi2 test:   chi2=1.0551  , p=0.9013  , df=4\n",
      "likelihood ratio test: chi2=1.0505  , p=0.9021  , df=4\n",
      "parameter F test:         F=0.2438  , p=0.9128  , df_denom=110, df_num=4\n"
     ]
    },
    {
     "data": {
      "text/plain": [
       "{1: ({'ssr_ftest': (0.19875762003521788, 0.65653560561785, 119.0, 1),\n",
       "   'ssr_chi2test': (0.20376831633862671, 0.6516962098583855, 1),\n",
       "   'lrtest': (0.20359833539248484, 0.6518319171889626, 1),\n",
       "   'params_ftest': (0.19875762003520767, 0.6565356056178607, 119.0, 1.0)},\n",
       "  [<statsmodels.regression.linear_model.RegressionResultsWrapper at 0x110716c50>,\n",
       "   <statsmodels.regression.linear_model.RegressionResultsWrapper at 0x16a4189d0>,\n",
       "   array([[0., 1., 0.]])]),\n",
       " 2: ({'ssr_ftest': (0.08177406261696589, 0.9215332037704073, 116.0, 2),\n",
       "   'ssr_chi2test': (0.17059761339056678, 0.9182378677819816, 2),\n",
       "   'lrtest': (0.17047746372423944, 0.91829303242568, 2),\n",
       "   'params_ftest': (0.0817740626169564, 0.9215332037704133, 116.0, 2.0)},\n",
       "  [<statsmodels.regression.linear_model.RegressionResultsWrapper at 0x16a41ba50>,\n",
       "   <statsmodels.regression.linear_model.RegressionResultsWrapper at 0x16a419650>,\n",
       "   array([[0., 0., 1., 0., 0.],\n",
       "          [0., 0., 0., 1., 0.]])]),\n",
       " 3: ({'ssr_ftest': (0.121308066996076, 0.9473857646165076, 113.0, 3),\n",
       "   'ssr_chi2test': (0.38646817804059613, 0.9430234467618117, 3),\n",
       "   'lrtest': (0.3858471874257816, 0.9431503650915003, 3),\n",
       "   'params_ftest': (0.12130806699606451, 0.9473857646165127, 113.0, 3.0)},\n",
       "  [<statsmodels.regression.linear_model.RegressionResultsWrapper at 0x16a419890>,\n",
       "   <statsmodels.regression.linear_model.RegressionResultsWrapper at 0x16a41a350>,\n",
       "   array([[0., 0., 0., 1., 0., 0., 0.],\n",
       "          [0., 0., 0., 0., 1., 0., 0.],\n",
       "          [0., 0., 0., 0., 0., 1., 0.]])]),\n",
       " 4: ({'ssr_ftest': (0.2438279275862412, 0.9128441774168894, 110.0, 4),\n",
       "   'ssr_chi2test': (1.055109941191371, 0.9013275275075342, 4),\n",
       "   'lrtest': (1.0504598571620818, 0.9020505151037154, 4),\n",
       "   'params_ftest': (0.24382792758623822, 0.9128441774168913, 110.0, 4.0)},\n",
       "  [<statsmodels.regression.linear_model.RegressionResultsWrapper at 0x16a41a490>,\n",
       "   <statsmodels.regression.linear_model.RegressionResultsWrapper at 0x16a418c10>,\n",
       "   array([[0., 0., 0., 0., 1., 0., 0., 0., 0.],\n",
       "          [0., 0., 0., 0., 0., 1., 0., 0., 0.],\n",
       "          [0., 0., 0., 0., 0., 0., 1., 0., 0.],\n",
       "          [0., 0., 0., 0., 0., 0., 0., 1., 0.]])])}"
      ]
     },
     "execution_count": 27,
     "metadata": {},
     "output_type": "execute_result"
    }
   ],
   "source": [
    "grangercausalitytests(df_transformed[['FEDFUNDS_diff', 'ChargeOff']], maxlag = 4)"
   ]
  },
  {
   "cell_type": "code",
   "execution_count": null,
   "id": "c87d4beb-3ff3-467f-8606-d529278c6c0d",
   "metadata": {},
   "outputs": [
    {
     "name": "stdout",
     "output_type": "stream",
     "text": [
      "\n",
      "Granger Causality\n",
      "number of lags (no zero) 1\n",
      "ssr based F test:         F=10.8870 , p=0.0013  , df_denom=120, df_num=1\n",
      "ssr based chi2 test:   chi2=11.1592 , p=0.0008  , df=1\n",
      "likelihood ratio test: chi2=10.6816 , p=0.0011  , df=1\n",
      "parameter F test:         F=10.8870 , p=0.0013  , df_denom=120, df_num=1\n",
      "\n",
      "Granger Causality\n",
      "number of lags (no zero) 2\n",
      "ssr based F test:         F=0.4102  , p=0.6645  , df_denom=117, df_num=2\n",
      "ssr based chi2 test:   chi2=0.8554  , p=0.6520  , df=2\n",
      "likelihood ratio test: chi2=0.8524  , p=0.6530  , df=2\n",
      "parameter F test:         F=0.4102  , p=0.6645  , df_denom=117, df_num=2\n",
      "\n",
      "Granger Causality\n",
      "number of lags (no zero) 3\n",
      "ssr based F test:         F=0.4909  , p=0.6893  , df_denom=114, df_num=3\n",
      "ssr based chi2 test:   chi2=1.5631  , p=0.6678  , df=3\n",
      "likelihood ratio test: chi2=1.5531  , p=0.6701  , df=3\n",
      "parameter F test:         F=0.4909  , p=0.6893  , df_denom=114, df_num=3\n",
      "\n",
      "Granger Causality\n",
      "number of lags (no zero) 4\n",
      "ssr based F test:         F=0.3274  , p=0.8590  , df_denom=111, df_num=4\n",
      "ssr based chi2 test:   chi2=1.4159  , p=0.8414  , df=4\n",
      "likelihood ratio test: chi2=1.4076  , p=0.8429  , df=4\n",
      "parameter F test:         F=0.3274  , p=0.8590  , df_denom=111, df_num=4\n"
     ]
    },
    {
     "data": {
      "text/plain": [
       "{1: ({'ssr_ftest': (10.887001105046512, 0.001275189751967323, 120.0, 1),\n",
       "   'ssr_chi2test': (11.159176132672673, 0.0008361704825501158, 1),\n",
       "   'lrtest': (10.68164240667727, 0.0010820394917068514, 1),\n",
       "   'params_ftest': (10.887001105046549, 0.0012751897519673028, 120.0, 1.0)},\n",
       "  [<statsmodels.regression.linear_model.RegressionResultsWrapper at 0x169f6e390>,\n",
       "   <statsmodels.regression.linear_model.RegressionResultsWrapper at 0x16a3af1d0>,\n",
       "   array([[0., 1., 0.]])]),\n",
       " 2: ({'ssr_ftest': (0.41016966212667433, 0.6644880350878803, 117.0, 2),\n",
       "   'ssr_chi2test': (0.8553965603325515, 0.6520081089021885, 2),\n",
       "   'lrtest': (0.8524117203273249, 0.6529819053216614, 2),\n",
       "   'params_ftest': (0.4101696621266555, 0.6644880350878933, 117.0, 2.0)},\n",
       "  [<statsmodels.regression.linear_model.RegressionResultsWrapper at 0x16a3d6190>,\n",
       "   <statsmodels.regression.linear_model.RegressionResultsWrapper at 0x16a3d4050>,\n",
       "   array([[0., 0., 1., 0., 0.],\n",
       "          [0., 0., 0., 1., 0.]])]),\n",
       " 3: ({'ssr_ftest': (0.49089244686522704, 0.6892963519966708, 114.0, 3),\n",
       "   'ssr_chi2test': (1.5631048965971703, 0.6677841635634507, 3),\n",
       "   'lrtest': (1.5530947450788517, 0.6700713994862622, 3),\n",
       "   'params_ftest': (0.4908924468652048, 0.6892963519966858, 114.0, 3.0)},\n",
       "  [<statsmodels.regression.linear_model.RegressionResultsWrapper at 0x16a3d5c90>,\n",
       "   <statsmodels.regression.linear_model.RegressionResultsWrapper at 0x16a3d4f90>,\n",
       "   array([[0., 0., 0., 1., 0., 0., 0.],\n",
       "          [0., 0., 0., 0., 1., 0., 0.],\n",
       "          [0., 0., 0., 0., 0., 1., 0.]])]),\n",
       " 4: ({'ssr_ftest': (0.3274294028676749, 0.8590439164759136, 111.0, 4),\n",
       "   'ssr_chi2test': (1.4159109313196752, 0.8414249590057392, 4),\n",
       "   'lrtest': (1.4076227151243756, 0.8428690754423414, 4),\n",
       "   'params_ftest': (0.32742940286770045, 0.8590439164758965, 111.0, 4.0)},\n",
       "  [<statsmodels.regression.linear_model.RegressionResultsWrapper at 0x16a3d5ad0>,\n",
       "   <statsmodels.regression.linear_model.RegressionResultsWrapper at 0x16a3d5d90>,\n",
       "   array([[0., 0., 0., 0., 1., 0., 0., 0., 0.],\n",
       "          [0., 0., 0., 0., 0., 1., 0., 0., 0.],\n",
       "          [0., 0., 0., 0., 0., 0., 1., 0., 0.],\n",
       "          [0., 0., 0., 0., 0., 0., 0., 1., 0.]])])}"
      ]
     },
     "execution_count": 23,
     "metadata": {},
     "output_type": "execute_result"
    }
   ],
   "source": [
    "grangercausalitytests(df_raw[['FEDFUNDS', 'Delinq']], maxlag = 4)"
   ]
  },
  {
   "cell_type": "code",
   "execution_count": null,
   "id": "588bd962-ef82-42de-a3e1-7740d16459cf",
   "metadata": {},
   "outputs": [
    {
     "name": "stdout",
     "output_type": "stream",
     "text": [
      "\n",
      "Granger Causality\n",
      "number of lags (no zero) 1\n",
      "ssr based F test:         F=7.9609  , p=0.0056  , df_denom=120, df_num=1\n",
      "ssr based chi2 test:   chi2=8.1600  , p=0.0043  , df=1\n",
      "likelihood ratio test: chi2=7.9007  , p=0.0049  , df=1\n",
      "parameter F test:         F=7.9609  , p=0.0056  , df_denom=120, df_num=1\n",
      "\n",
      "Granger Causality\n",
      "number of lags (no zero) 2\n",
      "ssr based F test:         F=0.2605  , p=0.7711  , df_denom=117, df_num=2\n",
      "ssr based chi2 test:   chi2=0.5433  , p=0.7621  , df=2\n",
      "likelihood ratio test: chi2=0.5421  , p=0.7626  , df=2\n",
      "parameter F test:         F=0.2605  , p=0.7711  , df_denom=117, df_num=2\n",
      "\n",
      "Granger Causality\n",
      "number of lags (no zero) 3\n",
      "ssr based F test:         F=0.1549  , p=0.9263  , df_denom=114, df_num=3\n",
      "ssr based chi2 test:   chi2=0.4934  , p=0.9203  , df=3\n",
      "likelihood ratio test: chi2=0.4924  , p=0.9206  , df=3\n",
      "parameter F test:         F=0.1549  , p=0.9263  , df_denom=114, df_num=3\n",
      "\n",
      "Granger Causality\n",
      "number of lags (no zero) 4\n",
      "ssr based F test:         F=0.2104  , p=0.9322  , df_denom=111, df_num=4\n",
      "ssr based chi2 test:   chi2=0.9099  , p=0.9231  , df=4\n",
      "likelihood ratio test: chi2=0.9065  , p=0.9236  , df=4\n",
      "parameter F test:         F=0.2104  , p=0.9322  , df_denom=111, df_num=4\n"
     ]
    },
    {
     "data": {
      "text/plain": [
       "{1: ({'ssr_ftest': (7.960929142979269, 0.005595664715834917, 120.0, 1),\n",
       "   'ssr_chi2test': (8.15995237155375, 0.004282549594992467, 1),\n",
       "   'lrtest': (7.900687717001745, 0.004941600596989742, 1),\n",
       "   'params_ftest': (7.960929142979216, 0.0055956647158350485, 120.0, 1.0)},\n",
       "  [<statsmodels.regression.linear_model.RegressionResultsWrapper at 0x16a38db50>,\n",
       "   <statsmodels.regression.linear_model.RegressionResultsWrapper at 0x16a3c6090>,\n",
       "   array([[0., 1., 0.]])]),\n",
       " 2: ({'ssr_ftest': (0.2605099103359273, 0.7711043426779648, 117.0, 2),\n",
       "   'ssr_chi2test': (0.5432856249740705, 0.76212643452418, 2),\n",
       "   'lrtest': (0.542079535116045, 0.7625861696123108, 2),\n",
       "   'params_ftest': (0.2605099103359412, 0.7711043426779547, 117.0, 2.0)},\n",
       "  [<statsmodels.regression.linear_model.RegressionResultsWrapper at 0x16a3c5490>,\n",
       "   <statsmodels.regression.linear_model.RegressionResultsWrapper at 0x16a3c4d10>,\n",
       "   array([[0., 0., 1., 0., 0.],\n",
       "          [0., 0., 0., 1., 0.]])]),\n",
       " 3: ({'ssr_ftest': (0.15494650208042893, 0.9263120513170137, 114.0, 3),\n",
       "   'ssr_chi2test': (0.49338228294031317, 0.9203428712617578, 3),\n",
       "   'lrtest': (0.49237911610339324, 0.9205624682714232, 3),\n",
       "   'params_ftest': (0.15494650208037733, 0.9263120513170494, 114.0, 3.0)},\n",
       "  [<statsmodels.regression.linear_model.RegressionResultsWrapper at 0x16a3d7850>,\n",
       "   <statsmodels.regression.linear_model.RegressionResultsWrapper at 0x16a3d7e10>,\n",
       "   array([[0., 0., 0., 1., 0., 0., 0.],\n",
       "          [0., 0., 0., 0., 1., 0., 0.],\n",
       "          [0., 0., 0., 0., 0., 1., 0.]])]),\n",
       " 4: ({'ssr_ftest': (0.2104193037344077, 0.9321744334725424, 111.0, 4),\n",
       "   'ssr_chi2test': (0.9099213134460874, 0.9231331504713147, 4),\n",
       "   'lrtest': (0.9064888341292772, 0.9236280504715445, 4),\n",
       "   'params_ftest': (0.21041930373438092, 0.932174433472558, 111.0, 4.0)},\n",
       "  [<statsmodels.regression.linear_model.RegressionResultsWrapper at 0x16a3d6950>,\n",
       "   <statsmodels.regression.linear_model.RegressionResultsWrapper at 0x16a3d6450>,\n",
       "   array([[0., 0., 0., 0., 1., 0., 0., 0., 0.],\n",
       "          [0., 0., 0., 0., 0., 1., 0., 0., 0.],\n",
       "          [0., 0., 0., 0., 0., 0., 1., 0., 0.],\n",
       "          [0., 0., 0., 0., 0., 0., 0., 1., 0.]])])}"
      ]
     },
     "execution_count": 25,
     "metadata": {},
     "output_type": "execute_result"
    }
   ],
   "source": [
    "grangercausalitytests(df_raw[['FEDFUNDS', 'ChargeOff']], maxlag = 4)"
   ]
  }
 ],
 "metadata": {
  "kernelspec": {
   "display_name": "Python 3 (ipykernel)",
   "language": "python",
   "name": "python3"
  },
  "language_info": {
   "codemirror_mode": {
    "name": "ipython",
    "version": 3
   },
   "file_extension": ".py",
   "mimetype": "text/x-python",
   "name": "python",
   "nbconvert_exporter": "python",
   "pygments_lexer": "ipython3",
   "version": "3.11.7"
  }
 },
 "nbformat": 4,
 "nbformat_minor": 5
}
